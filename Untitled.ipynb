{
 "cells": [
  {
   "cell_type": "code",
   "execution_count": 10,
   "id": "1dfe5fae-ffb4-403b-acf6-10b6941a4ac7",
   "metadata": {
    "scrolled": true
   },
   "outputs": [
    {
     "name": "stdout",
     "output_type": "stream",
     "text": [
      "Looking in indexes: https://mirrors.aliyun.com/pypi/simple/\n",
      "Collecting openai\n",
      "  Downloading https://mirrors.aliyun.com/pypi/packages/1d/2a/7dd3d207ec669cacc1f186fd856a0f61dbc255d24f6fdc1a6715d6051b0f/openai-1.109.1-py3-none-any.whl (948 kB)\n",
      "     ------------------------------------ 948.6/948.6 KB 968.4 kB/s eta 0:00:00\n",
      "Requirement already satisfied: anyio<5,>=3.5.0 in d:\\environment_test\\虚拟环境名称\\lib\\site-packages (from openai) (4.11.0)\n",
      "Collecting pydantic<3,>=1.9.0\n",
      "  Downloading https://mirrors.aliyun.com/pypi/packages/3e/d3/108f2006987c58e76691d5ae5d200dd3e0f532cb4e5fa3560751c3a1feba/pydantic-2.11.9-py3-none-any.whl (444 kB)\n",
      "     ------------------------------------ 444.9/444.9 KB 992.3 kB/s eta 0:00:00\n",
      "Requirement already satisfied: httpx<1,>=0.23.0 in d:\\environment_test\\虚拟环境名称\\lib\\site-packages (from openai) (0.28.1)\n",
      "Requirement already satisfied: sniffio in d:\\environment_test\\虚拟环境名称\\lib\\site-packages (from openai) (1.3.1)\n",
      "Collecting jiter<1,>=0.4.0\n",
      "  Downloading https://mirrors.aliyun.com/pypi/packages/1d/91/11bc61fa76fd6197f5baa8576614852ee8586a16c2f25085edc6b47a369d/jiter-0.11.0-cp39-cp39-win_amd64.whl (206 kB)\n",
      "     ------------------------------------ 206.1/206.1 KB 964.7 kB/s eta 0:00:00\n",
      "Requirement already satisfied: typing-extensions<5,>=4.11 in d:\\environment_test\\虚拟环境名称\\lib\\site-packages (from openai) (4.15.0)\n",
      "Collecting distro<2,>=1.7.0\n",
      "  Downloading https://mirrors.aliyun.com/pypi/packages/12/b3/231ffd4ab1fc9d679809f356cebee130ac7daa00d6d6f3206dd4fd137e9e/distro-1.9.0-py3-none-any.whl (20 kB)\n",
      "Collecting tqdm>4\n",
      "  Downloading https://mirrors.aliyun.com/pypi/packages/d0/30/dc54f88dd4a2b5dc8a0279bdd7270e735851848b762aeb1c1184ed1f6b14/tqdm-4.67.1-py3-none-any.whl (78 kB)\n",
      "     ---------------------------------------- 78.5/78.5 KB 1.1 MB/s eta 0:00:00\n",
      "Requirement already satisfied: exceptiongroup>=1.0.2 in d:\\environment_test\\虚拟环境名称\\lib\\site-packages (from anyio<5,>=3.5.0->openai) (1.3.0)\n",
      "Requirement already satisfied: idna>=2.8 in d:\\environment_test\\虚拟环境名称\\lib\\site-packages (from anyio<5,>=3.5.0->openai) (3.10)\n",
      "Requirement already satisfied: certifi in d:\\environment_test\\虚拟环境名称\\lib\\site-packages (from httpx<1,>=0.23.0->openai) (2025.8.3)\n",
      "Requirement already satisfied: httpcore==1.* in d:\\environment_test\\虚拟环境名称\\lib\\site-packages (from httpx<1,>=0.23.0->openai) (1.0.9)\n",
      "Requirement already satisfied: h11>=0.16 in d:\\environment_test\\虚拟环境名称\\lib\\site-packages (from httpcore==1.*->httpx<1,>=0.23.0->openai) (0.16.0)\n",
      "Collecting pydantic-core==2.33.2\n",
      "  Downloading https://mirrors.aliyun.com/pypi/packages/5b/90/7edc3b2a0d9f0dda8806c04e511a67b0b7a41d2187e2003673a996fb4310/pydantic_core-2.33.2-cp39-cp39-win_amd64.whl (2.0 MB)\n",
      "     ---------------------------------------- 2.0/2.0 MB 936.6 kB/s eta 0:00:00\n",
      "Collecting annotated-types>=0.6.0\n",
      "  Downloading https://mirrors.aliyun.com/pypi/packages/78/b6/6307fbef88d9b5ee7421e68d78a9f162e0da4900bc5f5793f6d3d0e34fb8/annotated_types-0.7.0-py3-none-any.whl (13 kB)\n",
      "Collecting typing-inspection>=0.4.0\n",
      "  Downloading https://mirrors.aliyun.com/pypi/packages/17/69/cd203477f944c353c31bade965f880aa1061fd6bf05ded0726ca845b6ff7/typing_inspection-0.4.1-py3-none-any.whl (14 kB)\n",
      "Requirement already satisfied: colorama in d:\\environment_test\\虚拟环境名称\\lib\\site-packages (from tqdm>4->openai) (0.4.6)\n",
      "Installing collected packages: typing-inspection, tqdm, pydantic-core, jiter, distro, annotated-types, pydantic, openai\n",
      "Successfully installed annotated-types-0.7.0 distro-1.9.0 jiter-0.11.0 openai-1.109.1 pydantic-2.11.9 pydantic-core-2.33.2 tqdm-4.67.1 typing-inspection-0.4.1\n"
     ]
    },
    {
     "name": "stderr",
     "output_type": "stream",
     "text": [
      "WARNING: You are using pip version 22.0.4; however, version 25.2 is available.\n",
      "You should consider upgrading via the 'D:\\environment_test\\虚拟环境名称\\Scripts\\python.exe -m pip install --upgrade pip' command.\n"
     ]
    }
   ],
   "source": [
    "!pip install openai"
   ]
  },
  {
   "cell_type": "code",
   "execution_count": 14,
   "id": "bcdd003e-ce2a-4733-ac22-ffd1993cfece",
   "metadata": {},
   "outputs": [],
   "source": [
    "from openai import OpenAI\n",
    "client = OpenAI(api_key=\"sk-5e002cf488964cae9a5a88915228453f\", base_url=\"https://api.deepseek.com\")"
   ]
  },
  {
   "cell_type": "code",
   "execution_count": 17,
   "id": "3b58c469-3ddc-4389-b116-fc2c3d1229ec",
   "metadata": {},
   "outputs": [],
   "source": [
    "# Round 1\n",
    "messages = [{\"role\": \"user\", \"content\": \"9.11 和 9.8, 哪个数更大?\"}]\n",
    "response = client.chat.completions.create(\n",
    "    model=\"deepseek-reasoner\",\n",
    "    messages=messages\n",
    ")"
   ]
  },
  {
   "cell_type": "code",
   "execution_count": 18,
   "id": "9da4e154-c687-4fa4-85d9-a30df5ec172c",
   "metadata": {},
   "outputs": [
    {
     "name": "stdout",
     "output_type": "stream",
     "text": [
      "ChatCompletion(id='9492f52a-6111-463f-9daa-0914814d8b59', choices=[Choice(finish_reason='stop', index=0, logprobs=None, message=ChatCompletionMessage(content='9.8 比 9.11 更大。  \\n原因：比较小数时，先比较整数部分（都是9），然后比较小数部分。9.8 的小数部分相当于 0.80，而 9.11 的小数部分是 0.11，0.80 大于 0.11，因此 9.8 > 9.11。', refusal=None, role='assistant', annotations=None, audio=None, function_call=None, tool_calls=None, reasoning_content='首先，用户的问题是：“9.11 和 9.8, 哪个数更大？”这是一个比较两个小数的问题。我需要比较9.11和9.8。\\n\\n9.11可以看作是9.11，而9.8可以看作是9.80。因为9.8相当于9.80，这样比较更容易。\\n\\n现在，比较9.11和9.80：9.80大于9.11，因为80比11大。\\n\\n更精确地，我可以将这两个数视为小数：9.11和9.8。9.8表示9.80，所以从整数部分开始，两者都是9，然后比较小数部分。9.11的小数部分是0.11，而9.8的小数部分是0.80。显然，0.80大于0.11，所以9.8大于9.11。\\n\\n因此，9.8比9.11大。\\n\\n最后，我应该用中文回复，因为用户的问题是中文的。'))], created=1759116759, model='deepseek-reasoner', object='chat.completion', service_tier=None, system_fingerprint='fp_8333852bec_prod0820_fp8_kvcache', usage=CompletionUsage(completion_tokens=280, prompt_tokens=19, total_tokens=299, completion_tokens_details=CompletionTokensDetails(accepted_prediction_tokens=None, audio_tokens=None, reasoning_tokens=199, rejected_prediction_tokens=None), prompt_tokens_details=PromptTokensDetails(audio_tokens=None, cached_tokens=0), prompt_cache_hit_tokens=0, prompt_cache_miss_tokens=19))\n"
     ]
    }
   ],
   "source": [
    "print(response)"
   ]
  },
  {
   "cell_type": "markdown",
   "id": "82283b8e-a561-49f8-a201-b5f432a0fbef",
   "metadata": {},
   "source": [
    "## 方法一：看到 response 的格式，考虑将其强制转换成列表进行提取"
   ]
  },
  {
   "cell_type": "code",
   "execution_count": 19,
   "id": "31292dd3-42de-40d6-8309-c44c5d5477a9",
   "metadata": {},
   "outputs": [
    {
     "name": "stdout",
     "output_type": "stream",
     "text": [
      "[('id', '9492f52a-6111-463f-9daa-0914814d8b59'), ('choices', [Choice(finish_reason='stop', index=0, logprobs=None, message=ChatCompletionMessage(content='9.8 比 9.11 更大。  \\n原因：比较小数时，先比较整数部分（都是9），然后比较小数部分。9.8 的小数部分相当于 0.80，而 9.11 的小数部分是 0.11，0.80 大于 0.11，因此 9.8 > 9.11。', refusal=None, role='assistant', annotations=None, audio=None, function_call=None, tool_calls=None, reasoning_content='首先，用户的问题是：“9.11 和 9.8, 哪个数更大？”这是一个比较两个小数的问题。我需要比较9.11和9.8。\\n\\n9.11可以看作是9.11，而9.8可以看作是9.80。因为9.8相当于9.80，这样比较更容易。\\n\\n现在，比较9.11和9.80：9.80大于9.11，因为80比11大。\\n\\n更精确地，我可以将这两个数视为小数：9.11和9.8。9.8表示9.80，所以从整数部分开始，两者都是9，然后比较小数部分。9.11的小数部分是0.11，而9.8的小数部分是0.80。显然，0.80大于0.11，所以9.8大于9.11。\\n\\n因此，9.8比9.11大。\\n\\n最后，我应该用中文回复，因为用户的问题是中文的。'))]), ('created', 1759116759), ('model', 'deepseek-reasoner'), ('object', 'chat.completion'), ('service_tier', None), ('system_fingerprint', 'fp_8333852bec_prod0820_fp8_kvcache'), ('usage', CompletionUsage(completion_tokens=280, prompt_tokens=19, total_tokens=299, completion_tokens_details=CompletionTokensDetails(accepted_prediction_tokens=None, audio_tokens=None, reasoning_tokens=199, rejected_prediction_tokens=None), prompt_tokens_details=PromptTokensDetails(audio_tokens=None, cached_tokens=0), prompt_cache_hit_tokens=0, prompt_cache_miss_tokens=19))]\n"
     ]
    }
   ],
   "source": [
    "response_to_list = list(response)\n",
    "print(response_to_list)\n",
    "# 从输出的结果可以看出，强制转换成列表后，每一个元素都是元素，回答的内容在列表的 1号位元组的 1 号位。"
   ]
  },
  {
   "cell_type": "code",
   "execution_count": 20,
   "id": "759a2214-8f95-46e0-8bfa-278e05dfc40f",
   "metadata": {},
   "outputs": [
    {
     "name": "stdout",
     "output_type": "stream",
     "text": [
      "[Choice(finish_reason='stop', index=0, logprobs=None, message=ChatCompletionMessage(content='9.8 比 9.11 更大。  \\n原因：比较小数时，先比较整数部分（都是9），然后比较小数部分。9.8 的小数部分相当于 0.80，而 9.11 的小数部分是 0.11，0.80 大于 0.11，因此 9.8 > 9.11。', refusal=None, role='assistant', annotations=None, audio=None, function_call=None, tool_calls=None, reasoning_content='首先，用户的问题是：“9.11 和 9.8, 哪个数更大？”这是一个比较两个小数的问题。我需要比较9.11和9.8。\\n\\n9.11可以看作是9.11，而9.8可以看作是9.80。因为9.8相当于9.80，这样比较更容易。\\n\\n现在，比较9.11和9.80：9.80大于9.11，因为80比11大。\\n\\n更精确地，我可以将这两个数视为小数：9.11和9.8。9.8表示9.80，所以从整数部分开始，两者都是9，然后比较小数部分。9.11的小数部分是0.11，而9.8的小数部分是0.80。显然，0.80大于0.11，所以9.8大于9.11。\\n\\n因此，9.8比9.11大。\\n\\n最后，我应该用中文回复，因为用户的问题是中文的。'))]\n"
     ]
    }
   ],
   "source": [
    "choices = response_to_list[1][1]\n",
    "print(choices)"
   ]
  },
  {
   "cell_type": "code",
   "execution_count": 25,
   "id": "abaa6272-8cc2-4534-ad1d-af68774ce8e8",
   "metadata": {},
   "outputs": [
    {
     "ename": "AttributeError",
     "evalue": "'list' object has no attribute 'message'",
     "output_type": "error",
     "traceback": [
      "\u001b[1;31m------------------------------------------------------------------\u001b[0m",
      "\u001b[1;31mAttributeError\u001b[0m                   Traceback (most recent call last)",
      "Cell \u001b[1;32mIn[25], line 3\u001b[0m\n\u001b[0;32m      1\u001b[0m \u001b[38;5;66;03m# 上述 choices 包含了我们需要的回答内容 content 和推理的内容 reasoning_content\u001b[39;00m\n\u001b[0;32m      2\u001b[0m \u001b[38;5;66;03m# 但是直接提取 content 会报错，仔细观察上一段结果不难发现 content 有上一层级：message\u001b[39;00m\n\u001b[1;32m----> 3\u001b[0m \u001b[43mchoices\u001b[49m\u001b[38;5;241;43m.\u001b[39;49m\u001b[43mmessage\u001b[49m\n",
      "\u001b[1;31mAttributeError\u001b[0m: 'list' object has no attribute 'message'"
     ]
    }
   ],
   "source": [
    "# 上述 choices 包含了我们需要的回答内容 content 和推理的内容 reasoning_content\n",
    "# 但是直接提取 content 会报错，仔细观察上一段结果不难发现 content 有上一层级：message\n",
    "\n"
   ]
  },
  {
   "cell_type": "code",
   "execution_count": null,
   "id": "fcb3b56c-8f21-4a56-85bf-1276933cede7",
   "metadata": {},
   "outputs": [],
   "source": [
    "\n",
    "\n",
    "reasoning_content = response.choices[0].message.reasoning_content\n",
    "content = response.choices[0].message.content\n"
   ]
  },
  {
   "cell_type": "code",
   "execution_count": null,
   "id": "0670323f-b3ab-4cc8-9fac-40b61ccdec02",
   "metadata": {},
   "outputs": [],
   "source": [
    "# Round 2\n",
    "messages.append({'role': 'assistant', 'content': content})\n",
    "messages.append({'role': 'user', 'content': \"How many Rs are there in the word 'strawberry'?\"})\n",
    "response = client.chat.completions.create(\n",
    "    model=\"deepseek-reasoner\",\n",
    "    messages=messages\n",
    ")\n"
   ]
  }
 ],
 "metadata": {
  "kernelspec": {
   "display_name": "Python 3 (ipykernel)",
   "language": "python",
   "name": "python3"
  },
  "language_info": {
   "codemirror_mode": {
    "name": "ipython",
    "version": 3
   },
   "file_extension": ".py",
   "mimetype": "text/x-python",
   "name": "python",
   "nbconvert_exporter": "python",
   "pygments_lexer": "ipython3",
   "version": "3.9.12"
  }
 },
 "nbformat": 4,
 "nbformat_minor": 5
}
